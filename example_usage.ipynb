{
 "cells": [
  {
   "cell_type": "code",
   "execution_count": 1,
   "metadata": {},
   "outputs": [],
   "source": [
    "import pandas as pd\n",
    "import numpy as np\n",
    "\n",
    "from stratified_ioi_subgrouping import (\n",
    "    IOIsplitter,\n",
    "    calculate_between_person_variability,\n",
    "    calculate_within_person_variability,\n",
    "    calculate_ioi,\n",
    ")"
   ]
  },
  {
   "cell_type": "code",
   "execution_count": 2,
   "metadata": {},
   "outputs": [],
   "source": [
    "data = pd.read_csv(\"data/simulated_data.csv\")\n",
    "wavenumbers = [str(i) for i in range(519)]"
   ]
  },
  {
   "cell_type": "code",
   "execution_count": 3,
   "metadata": {},
   "outputs": [],
   "source": [
    "wpv = calculate_within_person_variability(data, wavenumbers)\n",
    "bpv = calculate_between_person_variability(data, wavenumbers)\n",
    "original_ioi = (wpv / bpv).mean().mean()"
   ]
  },
  {
   "cell_type": "markdown",
   "metadata": {},
   "source": [
    "### 🧹 Data Preprocessing for Grouping\n",
    "\n",
    "To ensure consistent grouping of subjects, all samples from the same subject must be assigned to the same group.  \n",
    "Therefore, instead of using sample-level covariates (which can vary across visits), we compute the **subject-level mean** of each continuous covariate.  \n",
    "These mean values are then used during the splitting process to determine group membership."
   ]
  },
  {
   "cell_type": "code",
   "execution_count": 4,
   "metadata": {},
   "outputs": [],
   "source": [
    "continuous_covariates = [\n",
    "    \"bmi\",\n",
    "    \"age\",\n",
    "]\n",
    "mean_values = data.groupby(\"subject_id\")[continuous_covariates].transform(\"mean\")\n",
    "mean_values = mean_values.add_prefix(\"mean_\")\n",
    "data = pd.concat([data, mean_values], axis=1)\n",
    "\n",
    "covariate_combination = [f\"mean_{covariate}\" for covariate in continuous_covariates] + [\n",
    "    \"sex\"\n",
    "]"
   ]
  },
  {
   "cell_type": "code",
   "execution_count": 5,
   "metadata": {},
   "outputs": [
    {
     "name": "stderr",
     "output_type": "stream",
     "text": [
      "C:\\Users\\zita.zarandy\\AppData\\Local\\Temp\\ipykernel_14096\\22380332.py:12: DeprecationWarning: DataFrameGroupBy.apply operated on the grouping columns. This behavior is deprecated, and in a future version of pandas the grouping columns will be excluded from the operation. Either pass `include_groups=False` to exclude the groupings or explicitly select the grouping columns after groupby to silence this warning.\n",
      "  data.groupby(\"group\", observed=False)\n"
     ]
    }
   ],
   "source": [
    "splitter = IOIsplitter(\n",
    "    data,\n",
    "    covariates=covariate_combination,\n",
    "    min_subjects_per_leaf=10,\n",
    "    features=wavenumbers,\n",
    ")\n",
    "result = splitter.fit()\n",
    "summaries, _ = splitter.summarize_splits(result)\n",
    "summary_df = pd.DataFrame(summaries)\n",
    "data[\"group\"] = data.apply(lambda row: splitter.assign_to_leaf(summary_df, row), axis=1)\n",
    "ioi_group = (\n",
    "    data.groupby(\"group\", observed=False)\n",
    "    .apply(calculate_ioi, features=wavenumbers)\n",
    "    .reset_index(drop=True)\n",
    ")\n",
    "average_ioi_within_groups = ioi_group[wavenumbers].mean().mean()\n",
    "improvement = average_ioi_within_groups - original_ioi"
   ]
  },
  {
   "cell_type": "code",
   "execution_count": 6,
   "metadata": {},
   "outputs": [
    {
     "name": "stdout",
     "output_type": "stream",
     "text": [
      "📊 Original IOI (no splitting):     0.9003\n",
      "🌿 Mean IOI after group splitting:  0.9718\n",
      "✅ Increase in IOI:                 0.0715\n"
     ]
    }
   ],
   "source": [
    "print(f\"📊 Original IOI (no splitting):     {original_ioi:.4f}\")\n",
    "print(f\"🌿 Mean IOI after group splitting:  {average_ioi_within_groups:.4f}\")\n",
    "print(f\"✅ Increase in IOI:                 {improvement:.4f}\")"
   ]
  }
 ],
 "metadata": {
  "kernelspec": {
   "display_name": "test_ioi_env",
   "language": "python",
   "name": "python3"
  },
  "language_info": {
   "codemirror_mode": {
    "name": "ipython",
    "version": 3
   },
   "file_extension": ".py",
   "mimetype": "text/x-python",
   "name": "python",
   "nbconvert_exporter": "python",
   "pygments_lexer": "ipython3",
   "version": "3.10.16"
  }
 },
 "nbformat": 4,
 "nbformat_minor": 2
}
